{
 "cells": [
  {
   "cell_type": "code",
   "execution_count": 1,
   "id": "e854f8f1",
   "metadata": {},
   "outputs": [
    {
     "name": "stdout",
     "output_type": "stream",
     "text": [
      "The average cognitive dissonance score is: 3.1666666666666665\n"
     ]
    }
   ],
   "source": [
    "def calculate_average_cognitive_dissonance(scores):\n",
    "    if not scores:\n",
    "        return 0.0  # If the list is empty, return 0 as the average (you can handle this case differently if needed)\n",
    "    \n",
    "    total_score = sum(scores)\n",
    "    average_score = total_score / len(scores)\n",
    "    return average_score\n",
    "\n",
    "# Example usage:\n",
    "cognitive_dissonance_scores = [3, 4, 5, 2, 1, 4]\n",
    "average_score = calculate_average_cognitive_dissonance(cognitive_dissonance_scores)\n",
    "print(f\"The average cognitive dissonance score is: {average_score}\")\n"
   ]
  },
  {
   "cell_type": "code",
   "execution_count": 2,
   "id": "df8c42f0",
   "metadata": {},
   "outputs": [
    {
     "name": "stdout",
     "output_type": "stream",
     "text": [
      "The average difference of numerical scores is: 1.4\n"
     ]
    }
   ],
   "source": [
    "def calculate_average_difference(scores_a, scores_b):\n",
    "    if len(scores_a) != len(scores_b):\n",
    "        raise ValueError(\"Both score lists should have the same length.\")\n",
    "    \n",
    "    if not scores_a:\n",
    "        return 0.0  # If the lists are empty, return 0 as the average difference (you can handle this case differently if needed)\n",
    "\n",
    "    differences = [abs(score_a - score_b) for score_a, score_b in zip(scores_a, scores_b)]\n",
    "    average_difference = sum(differences) / len(differences)\n",
    "    return average_difference\n",
    "\n",
    "# Example usage:\n",
    "beliefs_a_scores = [3, 5, 4, 2, 1]\n",
    "beliefs_b_scores = [4, 2, 5, 3, 2]\n",
    "\n",
    "average_difference = calculate_average_difference(beliefs_a_scores, beliefs_b_scores)\n",
    "print(f\"The average difference of numerical scores is: {average_difference}\")\n"
   ]
  },
  {
   "cell_type": "code",
   "execution_count": 3,
   "id": "da11682b",
   "metadata": {},
   "outputs": [
    {
     "name": "stdout",
     "output_type": "stream",
     "text": [
      "The average difference of numerical scores is: 2.8\n"
     ]
    }
   ],
   "source": [
    "def calculate_average_difference(scores_a, scores_b):\n",
    "    if len(scores_a) != len(scores_b):\n",
    "        raise ValueError(\"Both score lists should have the same length.\")\n",
    "    \n",
    "    if not scores_a:\n",
    "        return 0.0  # If the lists are empty, return 0 as the average difference (you can handle this case differently if needed)\n",
    "\n",
    "    differences = [abs(score_a - score_b) for score_a, score_b in zip(scores_a, scores_b)]\n",
    "    average_difference = sum(differences) / len(differences)\n",
    "    return average_difference\n",
    "\n",
    "# Example usage:\n",
    "beliefs_a_scores = [7, 1, 1, 1, 1]\n",
    "beliefs_b_scores = [1, 2, 5, 3, 2]\n",
    "\n",
    "average_difference = calculate_average_difference(beliefs_a_scores, beliefs_b_scores)\n",
    "print(f\"The average difference of numerical scores is: {average_difference}\")\n"
   ]
  },
  {
   "cell_type": "code",
   "execution_count": null,
   "id": "e4fb6cea",
   "metadata": {},
   "outputs": [],
   "source": []
  }
 ],
 "metadata": {
  "kernelspec": {
   "display_name": "Python 3 (ipykernel)",
   "language": "python",
   "name": "python3"
  },
  "language_info": {
   "codemirror_mode": {
    "name": "ipython",
    "version": 3
   },
   "file_extension": ".py",
   "mimetype": "text/x-python",
   "name": "python",
   "nbconvert_exporter": "python",
   "pygments_lexer": "ipython3",
   "version": "3.10.9"
  }
 },
 "nbformat": 4,
 "nbformat_minor": 5
}
